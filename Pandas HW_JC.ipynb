{
 "cells": [
  {
   "cell_type": "markdown",
   "metadata": {},
   "source": [
    "### Note\n",
    "* Instructions have been included for each segment. You do not have to follow them exactly, but they are included to help you think through the steps."
   ]
  },
  {
   "cell_type": "code",
   "execution_count": null,
   "metadata": {},
   "outputs": [],
   "source": [
    "# Dependencies and Setup\n",
    "import pandas as pd\n",
    "\n",
    "# File to Load (Remember to Change These)\n",
    "file_to_load = \"Resources/purchase_data.csv\"\n",
    "\n",
    "# Read Purchasing File and store into Pandas data frame\n",
    "purchase_data = pd.read_csv(file_to_load)\n",
    "purchase_data.head()\n",
    "\n"
   ]
  },
  {
   "cell_type": "markdown",
   "metadata": {},
   "source": [
    "## Player Count"
   ]
  },
  {
   "cell_type": "markdown",
   "metadata": {},
   "source": [
    "* Display the total number of players\n"
   ]
  },
  {
   "cell_type": "code",
   "execution_count": null,
   "metadata": {},
   "outputs": [],
   "source": [
    "Total_Players = len(purchase_data[\"Purchase ID\"])\n",
    "print(Total_Players)\n",
    "\n"
   ]
  },
  {
   "cell_type": "markdown",
   "metadata": {},
   "source": [
    "## Purchasing Analysis (Total)"
   ]
  },
  {
   "cell_type": "markdown",
   "metadata": {},
   "source": [
    "* Run basic calculations to obtain number of unique items, average price, etc.\n",
    "\n",
    "\n",
    "* Create a summary data frame to hold the results\n",
    "\n",
    "\n",
    "* Optional: give the displayed data cleaner formatting\n",
    "\n",
    "\n",
    "* Display the summary data frame\n"
   ]
  },
  {
   "cell_type": "code",
   "execution_count": null,
   "metadata": {
    "scrolled": true
   },
   "outputs": [],
   "source": [
    "unique_items = len(purchase_data[\"Item ID\"].unique())\n",
    "unique_items\n",
    "total_purchases = purchase_data[\"Purchase ID\"].count()\n",
    "total_purchases\n",
    "total_revenue = purchase_data[\"Price\"].sum()\n",
    "total_revenue\n",
    "average_price = purchase_data[\"Price\"].mean()\n",
    "average_price\n",
    "\n",
    "Purchasing_Analysis_df = pd.DataFrame([{\"Number of Unique Items\": unique_items, \"Average Price\" : average_price, \"Number of Purchases\": total_purchases, \"Total Revenue\": total_revenue}])\n",
    "Purchasing_Analysis_df\n",
    "Purchasing_Analysis_df[\"Average Price\"] = Purchasing_Analysis_df[\"Average Price\"].map(\"${:,.2f}\".format)\n",
    "Purchasing_Analysis_df[\"Total Revenue\"] = Purchasing_Analysis_df[\"Total Revenue\"].map(\"${:,.2f}\".format)\n",
    "Purchasing_Analysis_df\n"
   ]
  },
  {
   "cell_type": "markdown",
   "metadata": {},
   "source": [
    "## Gender Demographics"
   ]
  },
  {
   "cell_type": "markdown",
   "metadata": {},
   "source": [
    "* Percentage and Count of Male Players\n",
    "\n",
    "\n",
    "* Percentage and Count of Female Players\n",
    "\n",
    "\n",
    "* Percentage and Count of Other / Non-Disclosed\n",
    "\n",
    "\n"
   ]
  },
  {
   "cell_type": "code",
   "execution_count": null,
   "metadata": {},
   "outputs": [],
   "source": [
    "gender_df = pd.DataFrame(purchase_data[\"Gender\"].value_counts())\n",
    "gender_df\n",
    "percent_df = (purchase_data[\"Gender\"].value_counts()/Total_Players)*100\n",
    "percent_df\n",
    "gender_df[\"Percentage of Players\"] = percent_df\n",
    "gender_df[\"Percentage of Players\"] = gender_df[\"Percentage of Players\"].map(\"{:,.2f}%\".format)\n",
    "gender_df\n",
    "new_gender_df = gender_df.rename(columns={\"Gender\":\"Total Count\"})\n",
    "new_gender_df"
   ]
  },
  {
   "cell_type": "markdown",
   "metadata": {},
   "source": [
    "\n",
    "## Purchasing Analysis (Gender)"
   ]
  },
  {
   "cell_type": "markdown",
   "metadata": {},
   "source": [
    "* Run basic calculations to obtain purchase count, avg. purchase price, avg. purchase total per person etc. by gender\n",
    "\n",
    "\n",
    "\n",
    "\n",
    "* Create a summary data frame to hold the results\n",
    "\n",
    "\n",
    "* Optional: give the displayed data cleaner formatting\n",
    "\n",
    "\n",
    "* Display the summary data frame"
   ]
  },
  {
   "cell_type": "code",
   "execution_count": null,
   "metadata": {},
   "outputs": [],
   "source": [
    "gender_purchasing_df = purchase_data.groupby([\"Gender\"])\n",
    "total_count_gender = gender_purchasing_df.nunique()[\"SN\"]\n",
    "total_purchase_value = gender_purchasing_df[\"Price\"].sum()\n",
    "total_purchase_value.head()\n",
    "new_purchase_df = total_purchase_value.map(\"${:,.2f}\".format)\n",
    "new_purchase_df.head()\n",
    "average_purchase_price = gender_purchasing_df[\"Price\"].mean()\n",
    "average_purchase_price.head()\n",
    "new_average_purchase_price = average_purchase_price.map(\"${:,.2f}\".format)\n",
    "new_average_purchase_price.head()\n",
    "avg_total_purchase_per_df = total_purchase_value/total_count_gender\n",
    "avg_total_purchase_per_format_df = avg_total_purchase_per_df.map(\"${:,.2f}\".format)\n",
    "avg_total_purchase_per_format_df.head()\n",
    "table_gender_purchasing_df = pd.DataFrame(gender_purchasing_df[\"Purchase ID\"].count())\n",
    "table_gender_purchasing_df[\"Average Purchase Price\"] = new_average_purchase_price\n",
    "table_gender_purchasing_df[\"Total Purchase Value\"] = new_purchase_df\n",
    "table_gender_purchasing_df[\"Avg. Total Purchase Per Person\"] = avg_total_purchase_per_format_df\n",
    "table_gender_purchasing_df\n",
    "new_table_gender_purchasing_df = table_gender_purchasing_df.rename(columns={\"Purchase ID\":\"Purchase Count\"})\n",
    "new_table_gender_purchasing_df\n",
    "\n"
   ]
  },
  {
   "cell_type": "markdown",
   "metadata": {},
   "source": [
    "## Age Demographics"
   ]
  },
  {
   "cell_type": "markdown",
   "metadata": {},
   "source": [
    "* Establish bins for ages\n",
    "\n",
    "\n",
    "* Categorize the existing players using the age bins. Hint: use pd.cut()\n",
    "\n",
    "\n",
    "* Calculate the numbers and percentages by age group\n",
    "\n",
    "\n",
    "* Create a summary data frame to hold the results\n",
    "\n",
    "\n",
    "* Optional: round the percentage column to two decimal points\n",
    "\n",
    "\n",
    "* Display Age Demographics Table\n"
   ]
  },
  {
   "cell_type": "code",
   "execution_count": null,
   "metadata": {},
   "outputs": [],
   "source": [
    "age_bins = [0, 9, 14, 19, 24, 29, 34, 39, 999]\n",
    "bin_names = [\"<10\", \"10-14\", \"15-19\", \"20-24\", \"25-29\", \"30-34\", \"35-39\", \"40+\"]\n",
    "age_groups_df = purchase_data\n",
    "age_groups_df[\"Age Summary\"] = pd.cut(age_groups_df[\"Age\"], age_bins, labels=bin_names)\n",
    "age_groups_df\n",
    "age_groups_df = age_groups_df.groupby(\"Age Summary\")\n",
    "total_count_age = age_groups_df[\"SN\"].nunique()\n",
    "age_groups_df.count()\n",
    "new_age_summary_df = pd.DataFrame(age_groups_df.count())\n",
    "new_age_summary_df\n",
    "new_age_summary_df[\"Purchase ID\"] = (new_age_summary_df[\"Purchase ID\"]/Total_Players)*100\n",
    "new_age_summary_df\n",
    "new_age_summary_df[\"Purchase ID\"] = new_age_summary_df[\"Purchase ID\"].map(\"{:,.2f}%\".format)\n",
    "new_age_summary_df\n",
    "format_age_summary_df = new_age_summary_df[[\"Purchase ID\", \"SN\"]]\n",
    "format_age_summary_df\n",
    "new_format_age_summary_df = format_age_summary_df.rename(columns={\"Purchase ID\":\"Percentage of Players\", \"SN\" : \"Total Count\"})\n",
    "new_format_age_summary_df\n",
    "final_age_df = new_format_age_summary_df[[\"Total Count\", \"Percentage of Players\"]]\n",
    "final_age_df"
   ]
  },
  {
   "cell_type": "markdown",
   "metadata": {},
   "source": [
    "## Purchasing Analysis (Age)"
   ]
  },
  {
   "cell_type": "markdown",
   "metadata": {},
   "source": [
    "* Bin the purchase_data data frame by age\n",
    "\n",
    "\n",
    "* Run basic calculations to obtain purchase count, avg. purchase price, avg. purchase total per person etc. in the table below\n",
    "\n",
    "\n",
    "* Create a summary data frame to hold the results\n",
    "\n",
    "\n",
    "* Optional: give the displayed data cleaner formatting\n",
    "\n",
    "\n",
    "* Display the summary data frame"
   ]
  },
  {
   "cell_type": "code",
   "execution_count": null,
   "metadata": {},
   "outputs": [],
   "source": [
    "age_analysis_df = pd.DataFrame(age_groups_df[\"Purchase ID\"].count())\n",
    "age_analysis_df\n",
    "total_purchase_value_age = age_groups_df[\"Price\"].sum()\n",
    "total_purchase_value_age\n",
    "format_total_purchase_value_age = total_purchase_value_age.map(\"${:,.2f}\".format)\n",
    "format_total_purchase_value_age\n",
    "average_purchase_age = age_groups_df[\"Price\"].mean()\n",
    "average_purchase_age\n",
    "format_average_purchase_age = average_purchase_age.map(\"${:,.2f}\".format)\n",
    "format_average_purchase_age\n",
    "avg_purchase_total_per = total_purchase_value_age/total_count_age\n",
    "avg_purchase_total_per_format = avg_purchase_total_per.map(\"${:,.2f}\".format)\n",
    "avg_purchase_total_per_format\n",
    "age_analysis_df[\"Average Purchase Price\"] = format_average_purchase_age\n",
    "age_analysis_df[\"Total Purchase Value\"] = format_total_purchase_value_age\n",
    "age_analysis_df[\"Average Total Purchase Per Person\"] = avg_purchase_total_per_format\n",
    "age_analysis_df\n",
    "final_purchasing_analysis_age_df = age_analysis_df.rename(columns={\"Purchase ID\":\"Purchase Count\"})\n",
    "final_purchasing_analysis_age_df"
   ]
  },
  {
   "cell_type": "markdown",
   "metadata": {},
   "source": [
    "## Top Spenders"
   ]
  },
  {
   "cell_type": "markdown",
   "metadata": {},
   "source": [
    "* Run basic calculations to obtain the results in the table below\n",
    "\n",
    "\n",
    "* Create a summary data frame to hold the results\n",
    "\n",
    "\n",
    "* Sort the total purchase value column in descending order\n",
    "\n",
    "\n",
    "* Optional: give the displayed data cleaner formatting\n",
    "\n",
    "\n",
    "* Display a preview of the summary data frame\n",
    "\n"
   ]
  },
  {
   "cell_type": "code",
   "execution_count": null,
   "metadata": {},
   "outputs": [],
   "source": [
    "spending_purchase_data_df = pd.DataFrame(purchase_data)\n",
    "spending_purchase_data_df.head()\n",
    "\n",
    "sn_df = spending_purchase_data_df.groupby(\"SN\")\n",
    "sn_df.count()\n",
    "\n",
    "spendor_df = pd.DataFrame(sn_df[\"Purchase ID\"].count())\n",
    "spendor_df\n",
    "\n",
    "total_purchase_value = sn_df[\"Price\"].sum()\n",
    "total_purchase_value\n",
    "\n",
    "average_purchase_price = sn_df[\"Price\"].mean()\n",
    "average_purchase_price\n",
    "format_average_purcahse_price = average_purchase_price.map(\"${:,.2f}\".format)\n",
    "format_average_purcahse_price\n",
    "\n",
    "spendor_df[\"Average Purchase Price\"] = format_average_purcahse_price\n",
    "spendor_df[\"Total Purchase Value\"] = total_purchase_value\n",
    "spendor_df\n",
    "\n",
    "top_spendors_df = spendor_df.rename(columns={\"Purchase ID\": \"Purchase Count\"})\n",
    "top_spendors_analysis_df = top_spendors_df.sort_values(\"Total Purchase Value\", ascending=False)\n",
    "top_spendors_analysis_df.head()\n",
    "\n",
    "format_total_purchase_value = total_purchase_value.map(\"${:,.2f}\".format)\n",
    "top_spendors_analysis_df[\"Total Purchase Value\"] = format_total_purchase_value\n",
    "top_spendors_analysis_df.head()\n",
    "\n",
    "\n",
    "\n"
   ]
  },
  {
   "cell_type": "markdown",
   "metadata": {},
   "source": [
    "## Most Popular Items"
   ]
  },
  {
   "cell_type": "markdown",
   "metadata": {},
   "source": [
    "* Retrieve the Item ID, Item Name, and Item Price columns\n",
    "\n",
    "\n",
    "* Group by Item ID and Item Name. Perform calculations to obtain purchase count, average item price, and total purchase value\n",
    "\n",
    "\n",
    "* Create a summary data frame to hold the results\n",
    "\n",
    "\n",
    "* Sort the purchase count column in descending order\n",
    "\n",
    "\n",
    "* Optional: give the displayed data cleaner formatting\n",
    "\n",
    "\n",
    "* Display a preview of the summary data frame\n",
    "\n"
   ]
  },
  {
   "cell_type": "code",
   "execution_count": null,
   "metadata": {},
   "outputs": [],
   "source": [
    "popular_items_df = spending_purchase_data_df.groupby([\"Item ID\", \"Item Name\"])\n",
    "popular_items_df.count()\n",
    "new_items_df = pd.DataFrame(popular_items_df[\"Purchase ID\"].count())\n",
    "new_items_df\n",
    "total_purchase_value = popular_items_df[\"Price\"].sum()\n",
    "total_purchase_value\n",
    "format_total_purcahse_value = total_purchase_value.map(\"${:,.2f}\".format)\n",
    "format_total_purcahse_value\n",
    "item_price = popular_items_df[\"Price\"].mean()\n",
    "item_price\n",
    "format_item_price = item_price.map(\"${:,.2f}\".format)\n",
    "format_item_price\n",
    "new_items_df[\"Item Price\"] = format_item_price\n",
    "new_items_df[\"Total Purchase Value\"] = format_total_purcahse_value\n",
    "new_items_df\n",
    "format_popular_items_df = new_items_df.rename(columns={\"Purchase ID\":\"Purchase Count\"})\n",
    "sort_format_popular_items_df = format_popular_items_df.sort_values(\"Purchase Count\", ascending=False)\n",
    "sort_format_popular_items_df\n"
   ]
  },
  {
   "cell_type": "markdown",
   "metadata": {},
   "source": [
    "## Most Profitable Items"
   ]
  },
  {
   "cell_type": "markdown",
   "metadata": {},
   "source": [
    "* Sort the above table by total purchase value in descending order\n",
    "\n",
    "\n",
    "* Optional: give the displayed data cleaner formatting\n",
    "\n",
    "\n",
    "* Display a preview of the data frame\n",
    "\n"
   ]
  },
  {
   "cell_type": "code",
   "execution_count": null,
   "metadata": {
    "scrolled": true
   },
   "outputs": [],
   "source": [
    "format_popular_items_df[\"Total Purchase Value\"] = popular_items_df[\"Price\"].sum()\n",
    "format_popular_items_df\n",
    "profit_items_df = format_popular_items_df.sort_values(\"Total Purchase Value\", ascending=False)\n",
    "profit_items_df\n",
    "format_total_purcahse_value = total_purchase_value.map(\"${:,.2f}\".format)\n",
    "profit_items_df[\"Total Purchase Value\"] = format_total_purcahse_value\n",
    "profit_items_df.head()\n"
   ]
  },
  {
   "cell_type": "code",
   "execution_count": null,
   "metadata": {},
   "outputs": [],
   "source": [
    "#High-level Data Conclusions (see README fore more analysis)\n",
    "#The majority of players fall in the age range of 20-24, a group that represents 46.79% of all players. \n",
    "#83.59% of all players are male however female players have a higher average purchase price by $0.18.\n",
    "#The age group 35-39 have the highest avergage purchase price at $3.60 while the 25-29 age group has the lowest average purchasing price at $2.90."
   ]
  }
 ],
 "metadata": {
  "anaconda-cloud": {},
  "kernel_info": {
   "name": "python3"
  },
  "kernelspec": {
   "display_name": "Python [conda env:root] *",
   "language": "python",
   "name": "conda-root-py"
  },
  "language_info": {
   "codemirror_mode": {
    "name": "ipython",
    "version": 3
   },
   "file_extension": ".py",
   "mimetype": "text/x-python",
   "name": "python",
   "nbconvert_exporter": "python",
   "pygments_lexer": "ipython3",
   "version": "3.8.3"
  },
  "latex_envs": {
   "LaTeX_envs_menu_present": true,
   "autoclose": false,
   "autocomplete": true,
   "bibliofile": "biblio.bib",
   "cite_by": "apalike",
   "current_citInitial": 1,
   "eqLabelWithNumbers": true,
   "eqNumInitial": 1,
   "hotkeys": {
    "equation": "Ctrl-E",
    "itemize": "Ctrl-I"
   },
   "labels_anchors": false,
   "latex_user_defs": false,
   "report_style_numbering": false,
   "user_envs_cfg": false
  },
  "nteract": {
   "version": "0.2.0"
  }
 },
 "nbformat": 4,
 "nbformat_minor": 2
}
